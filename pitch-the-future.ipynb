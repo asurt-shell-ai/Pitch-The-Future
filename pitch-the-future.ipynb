{
  "nbformat": 4,
  "nbformat_minor": 0,
  "metadata": {
    "colab": {
      "name": "Untitled0.ipynb",
      "provenance": [],
      "collapsed_sections": []
    },
    "kernelspec": {
      "name": "python3",
      "display_name": "Python 3"
    },
    "language_info": {
      "name": "python"
    },
    "accelerator": "GPU"
  },
  "cells": [
    {
      "cell_type": "code",
      "source": [
        "!git clone https://github.com/asurt-shell-ai/Pitch-The-Future"
      ],
      "metadata": {
        "id": "AnCxERH8jI8T"
      },
      "execution_count": null,
      "outputs": []
    },
    {
      "cell_type": "code",
      "source": [
        "%cd Pitch-The-Future"
      ],
      "metadata": {
        "id": "giI1USssvaMH"
      },
      "execution_count": null,
      "outputs": []
    },
    {
      "cell_type": "code",
      "source": [
        "!pip install -r 'requirements.txt'"
      ],
      "metadata": {
        "id": "NhWpSOnOn2YT"
      },
      "execution_count": null,
      "outputs": []
    },
    {
      "cell_type": "code",
      "source": [
        "from utils import *\n",
        "from models import *\n",
        "from datasets import *\n",
        "import torch\n",
        "\n",
        "file_path = './configs/Glow/shapes.yaml'\n",
        "configs = ConfigParser(file_path)\n",
        "print(\"Loaded Configs\")\n",
        "\n",
        "print(\"Loading Dataset\")\n",
        "img_size, loaded_datasets = load_dataset(configs.dataset, configs.batch_size, configs.n_bits)\n",
        "configs.img_size = img_size\n",
        "print(\"Dataset Loaded\")\n",
        "\n",
        "print(\"Starting Logger\")\n",
        "logger = Logger(configs)\n",
        "print(\"Logger Ready\")\n",
        "\n",
        "print(\"Creating Model\")\n",
        "model_command = configs.model+\"(configs, loaded_datasets, logger)\"\n",
        "model = eval(model_command)\n",
        "\n",
        "try:\n",
        "    model.load_state_dict(torch.load(configs.save_model_path))\n",
        "    print(\"Loaded a trained model\")\n",
        "except:\n",
        "    print(\"No trained model present\")\n",
        "\n",
        "print(\"Model created successfully\")\n",
        "    \n",
        "\n",
        "if configs.use_cuda and torch.cuda.is_available():\n",
        "    print(\"Using GPU\")\n",
        "    model = model.cuda()\n",
        "\n",
        "# print(\"Started Training\")\n",
        "# model.full_train()"
      ],
      "metadata": {
        "colab": {
          "base_uri": "https://localhost:8080/"
        },
        "id": "6takGt_evp8K",
        "outputId": "0ccf7b24-16af-43bb-ae67-1d6cf7f62789"
      },
      "execution_count": 4,
      "outputs": [
        {
          "output_type": "stream",
          "name": "stdout",
          "text": [
            "Loaded Configs\n",
            "Loading Dataset\n",
            "Dataset Loaded\n",
            "Starting Logger\n",
            "Logger Ready\n",
            "Creating Model\n"
          ]
        },
        {
          "output_type": "stream",
          "name": "stderr",
          "text": [
            "/content/Pitch-The-Future/models/Glow_utils/InvConv.py:40: UserWarning: The given NumPy array is not writeable, and PyTorch does not support non-writeable tensors. This means you can write to the underlying (supposedly non-writeable) NumPy array using the tensor. You may want to copy the array to protect its data or make it writeable before converting it to a tensor. This type of warning will be suppressed for the rest of this program. (Triggered internally at  ../torch/csrc/utils/tensor_numpy.cpp:189.)\n",
            "  self.register_buffer('s_signs', torch.sign(torch.from_numpy(s)))\n"
          ]
        },
        {
          "output_type": "stream",
          "name": "stdout",
          "text": [
            "Loaded a trained model\n",
            "Model created successfully\n",
            "Using GPU\n"
          ]
        }
      ]
    },
    {
      "cell_type": "code",
      "execution_count": 6,
      "metadata": {
        "id": "tbvCJ-b6gx6Z"
      },
      "outputs": [],
      "source": [
        "from sklearn.metrics import accuracy_score\n",
        "\n",
        "from PIL import Image\n",
        "import glob\n",
        "import matplotlib.pyplot as plt\n",
        "%matplotlib inline\n",
        "from sklearn.mixture import GaussianMixture\n",
        "from sklearn.metrics import confusion_matrix\n",
        "plt.style.use('ggplot')\n",
        "\n",
        "\n",
        "def add_noise_bitflips(test_data, flips_ratio):\n",
        "    \"\"\"\n",
        "    Takes in input images (test_data) and percentage of pixels flipped (flips_ratio)\n",
        "    and returns the images with half of them corrupted\n",
        "\n",
        "    Parameters\n",
        "    ----------\n",
        "    test_data: np.ndarray (n_images, n_channels, height, width)\n",
        "    flips_ratio: float [0,1] \n",
        "\n",
        "    Returns\n",
        "    -------\n",
        "    test_data: np.ndarray (n_images, n_channels, height, width)\n",
        "\n",
        "    \"\"\"\n",
        "    \n",
        "    n_corrupt = int(0.5*test_data.shape[0])\n",
        "    flips = (np.random.rand(*test_data[n_corrupt:,].shape) < flips_ratio).astype(int)\n",
        "\n",
        "    test_data = np.copy(test_data)\n",
        "    test_data[n_corrupt:,] = np.logical_xor(test_data[n_corrupt:,].astype(int) ,flips).astype(float)\n",
        "    \n",
        "    test_labels = np.zeros(test_data.shape[0])\n",
        "    test_labels[n_corrupt:] = 1\n",
        "\n",
        "    return test_data, test_labels\n",
        "\n",
        "\n",
        "\n",
        "def draw_roc_curve(preds, labels, thresholds, title):\n",
        "    fpr = []\n",
        "    tpr = []\n",
        "    for t in thresholds:\n",
        "        class_preds = preds<t\n",
        "        tn, fp, fn, tp = confusion_matrix(labels, class_preds).ravel()\n",
        "        fpr.append(fp/(fp+tn))\n",
        "        tpr.append(tp/(tp+fn))\n",
        "    \n",
        "    # Draw ROC curve\n",
        "    plt.title(title)\n",
        "    plt.plot(fpr, tpr)\n",
        "    plt.xlabel(\"FPR\")\n",
        "    plt.ylabel(\"TPR\")\n",
        "    plt.show()\n",
        "  "
      ]
    },
    {
      "cell_type": "code",
      "source": [
        "device = next(model.parameters()).device\n",
        "\n",
        "# Loading nonanomalous images\n",
        "train_loader, val_loader, test_loader = loaded_datasets\n",
        "\n",
        "test_data = test_loader.dataset.images\n",
        "test_data = test_data.detach().cpu().numpy()\n",
        "\n",
        "# Sanity check, adding almost no noise -> should get a linear ROC curve\n",
        "test_data_noise, test_labels = add_noise_bitflips(test_data, flips_ratio= 0)\n",
        "test_data_noise  = torch.from_numpy(np.array(test_data_noise,dtype=float)).type(torch.FloatTensor).to(device)\n",
        "draw_roc_curve(model.log_prob(test_data_noise).detach().cpu().numpy()\n",
        "        , test_labels, np.arange(-1e5,0,10), \"ROC Curve at flips_ratio = 0\")\n",
        "\n",
        "\n",
        "# ROC curve with ratio = 0.05\n",
        "flips_ratio = 0.05\n",
        "test_data_noise, test_labels = add_noise_bitflips(test_data, flips_ratio= flips_ratio)\n",
        "test_data_noise  = torch.from_numpy(np.array(test_data_noise,dtype=float)).type(torch.FloatTensor).to(device)\n",
        "draw_roc_curve(model.log_prob(test_data_noise).detach().cpu().numpy()\n",
        "        , test_labels, np.arange(-1e5,0,10), f\"ROC Curve at flips_ratio = {flips_ratio}\")"
      ],
      "metadata": {
        "colab": {
          "base_uri": "https://localhost:8080/",
          "height": 581
        },
        "id": "LOxdOUtb8CjZ",
        "outputId": "ab39ad5b-e7da-4fe1-d991-b0c2d8522544"
      },
      "execution_count": 7,
      "outputs": [
        {
          "output_type": "display_data",
          "data": {
            "text/plain": [
              "<Figure size 432x288 with 1 Axes>"
            ],
            "image/png": "[encoded data removed]"
          },
          "metadata": {}
        },
        {
          "output_type": "display_data",
          "data": {
            "text/plain": [
              "<Figure size 432x288 with 1 Axes>"
            ],
            "image/png": "[encoded data removed]"
          },
          "metadata": {}
        }
      ]
    },
    {
      "cell_type": "code",
      "source": [
        "# Plotting non-corrupted images against their corrupted versions with flip ratio 0.05\n",
        "fig = plt.figure(figsize=(8, 8))\n",
        "columns = 5\n",
        "rows = 2 \n",
        "ax = []\n",
        "for i in range(0, columns*rows):\n",
        "    ax.append(fig.add_subplot(rows, columns, i+1))\n",
        "    ax[-1].set_yticklabels([])\n",
        "    ax[-1].set_xticklabels([])\n",
        "    ax[-1].grid(False)\n",
        "    ax[-1].axis('off')\n",
        "    if(i < (columns*rows / 2)):\n",
        "        plt.imshow(np.squeeze(test_data[-i]), cmap = \"gray\")\n",
        "    else:\n",
        "        plt.imshow(np.squeeze(test_data_noise[-(i%5)].detach().cpu().numpy()), cmap = \"gray\")\n",
        "        \n",
        "plt.show()"
      ],
      "metadata": {
        "colab": {
          "base_uri": "https://localhost:8080/",
          "height": 345
        },
        "id": "TkpsnjOG8AGL",
        "outputId": "5a3bc03b-2cfd-4386-c890-fd07ce5131ff"
      },
      "execution_count": 10,
      "outputs": [
        {
          "output_type": "display_data",
          "data": {
            "text/plain": [
              "<Figure size 576x576 with 10 Axes>"
            ],
            "image/png": "[encoded data removed]"
          },
          "metadata": {}
        }
      ]
    },
    {
      "cell_type": "code",
      "source": [
        ""
      ],
      "metadata": {
        "id": "d6vMWiJHhSSE"
      },
      "execution_count": null,
      "outputs": []
    }
  ]
}